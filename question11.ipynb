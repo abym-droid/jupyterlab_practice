{
 "cells": [
  {
   "cell_type": "markdown",
   "id": "5c787033-3b86-4f07-9429-1c3b1a7cb4a2",
   "metadata": {},
   "source": [
    "# Abhishek Mukherjee\n",
    "Notebook for assignment 7"
   ]
  },
  {
   "cell_type": "code",
   "execution_count": 1,
   "id": "e05077e9-1317-4277-ab1c-4b588952f63f",
   "metadata": {},
   "outputs": [],
   "source": [
    "def compute_mean(input_list):\n",
    "    i = 0\n",
    "    for x in input_list:\n",
    "        i = i + x\n",
    "    return i/len(input_list)"
   ]
  },
  {
   "cell_type": "code",
   "execution_count": 2,
   "id": "6172825b-28a9-4583-84a6-e6107e7541dc",
   "metadata": {},
   "outputs": [
    {
     "data": {
      "text/plain": [
       "5.0"
      ]
     },
     "execution_count": 2,
     "metadata": {},
     "output_type": "execute_result"
    }
   ],
   "source": [
    "compute_mean([2, 4, 6, 8])"
   ]
  },
  {
   "cell_type": "markdown",
   "id": "9c0a96c2-e9e5-4075-8465-97f57cf0b2d6",
   "metadata": {},
   "source": [
    "The code cell above computes mean of numbers in a given list that is passed to the function as an argument. The output is a float as the result can be fractional.\n",
    "\n",
    "The forumla to compute mean is given below:\n",
    "\n",
    "$$\n",
    "\\begin{aligned}\n",
    "\\overline{x} = \\frac{x_1 + x_2 + x_3 + \\ldots + x_n}{n}\n",
    "\\end{aligned}\n",
    "$$\n",
    "\n",
    "$$\n",
    "\\begin{aligned}\n",
    "\\overline{x} = \\frac{1}{n} \\sum_{i=1}^n x_i\n",
    "\\end{aligned}\n",
    "$$\n",
    "\n"
   ]
  },
  {
   "cell_type": "code",
   "execution_count": null,
   "id": "cae49e54-209e-45fa-9783-4be17a419c4a",
   "metadata": {},
   "outputs": [],
   "source": []
  }
 ],
 "metadata": {
  "kernelspec": {
   "display_name": "Python 3 (ipykernel)",
   "language": "python",
   "name": "python3"
  },
  "language_info": {
   "codemirror_mode": {
    "name": "ipython",
    "version": 3
   },
   "file_extension": ".py",
   "mimetype": "text/x-python",
   "name": "python",
   "nbconvert_exporter": "python",
   "pygments_lexer": "ipython3",
   "version": "3.11.8"
  }
 },
 "nbformat": 4,
 "nbformat_minor": 5
}
